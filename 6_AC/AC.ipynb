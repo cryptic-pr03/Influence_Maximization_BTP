{
 "cells": [
  {
   "cell_type": "code",
   "execution_count": 1,
   "metadata": {},
   "outputs": [
    {
     "name": "stderr",
     "output_type": "stream",
     "text": [
      "/home/chaty/Desktop/BTP/Sem-7/.venv/lib/python3.10/site-packages/tqdm/auto.py:21: TqdmWarning: IProgress not found. Please update jupyter and ipywidgets. See https://ipywidgets.readthedocs.io/en/stable/user_install.html\n",
      "  from .autonotebook import tqdm as notebook_tqdm\n"
     ]
    }
   ],
   "source": [
    "import networkx as nx\n",
    "from collections import defaultdict\n",
    "import random\n",
    "import math\n",
    "from karateclub import DeepWalk"
   ]
  },
  {
   "cell_type": "code",
   "execution_count": 41,
   "metadata": {},
   "outputs": [],
   "source": [
    "# Values of hyper parameters as mentioned in the research paper\n",
    "\n",
    "alpha = 0.7    # Used in probability calculation\n",
    "beta = 0.3    # Used in probability calculation\n",
    "\n",
    "walk_length = 10    # The length of path in deepwalk\n",
    "dim = 2    # The dimension in Deepwalk\n",
    "window_size = 4    # Window size in Deepwalk\n",
    "\n",
    "Nc = 50    # Maximum number of cycles/iterations\n",
    "L = 5    # Length of ant selection path\n",
    "m = 30    # Number of ants\n",
    "\n",
    "rho = 0.05    # Pheromone evaporation coefﬁcient\n",
    "budget = 500\n",
    "negative_influence_set_size = 10"
   ]
  },
  {
   "cell_type": "code",
   "execution_count": 3,
   "metadata": {},
   "outputs": [],
   "source": [
    "def get_heuristic_value_for_all_edges(graph: nx.graph):\n",
    "    \n",
    "    model = DeepWalk(walk_length = walk_length, dimensions = dim, window_size = window_size)\n",
    "    model.fit(graph)\n",
    "    embedding = model.get_embedding()\n",
    "\n",
    "\n",
    "    heuristic_value = {}\n",
    "    for u, v in graph.edges:\n",
    "        if u == v:\n",
    "            continue\n",
    "            \n",
    "        xu, yu = embedding[u]\n",
    "        xv, yv = embedding[v]\n",
    "\n",
    "        x = xu - xv\n",
    "        y = yu - yv\n",
    "        heuristic_value[(u, v)] = math.sqrt((x ** 2) + (y ** 2))\n",
    "    \n",
    "    mn = min(heuristic_value.values())\n",
    "    mx = max(heuristic_value.values())\n",
    "    range_ = mx - mn\n",
    "\n",
    "    for key, value in heuristic_value.items():\n",
    "        h = (value - mn) / range_\n",
    "        u, v = key\n",
    "        graph.add_edge(u, v, heuristic_value = h)"
   ]
  },
  {
   "cell_type": "code",
   "execution_count": 4,
   "metadata": {},
   "outputs": [],
   "source": [
    "def generate_ant(graph: nx.graph, negative_influence_set: set, path_size: int):\n",
    "    node = random.choice(list(negative_influence_set))\n",
    "\n",
    "    selected = set()\n",
    "    selected.add(node)\n",
    "    path = [node]\n",
    "\n",
    "    for _ in range(path_size - 1):\n",
    "        neighbours = [u for u in graph[node] if u not in selected]\n",
    "        if len(neighbours) == 0:\n",
    "            break\n",
    "\n",
    "        attractiveness = []\n",
    "        for u in neighbours:\n",
    "            tau = graph[node][u]['pheromone']\n",
    "            eta = graph[node][u]['heuristic_value']\n",
    "\n",
    "            attractiveness.append((tau ** alpha) * (eta ** beta))\n",
    "        \n",
    "        random_value = random.random()\n",
    "        total = sum(attractiveness)\n",
    "        probabilities = [value/total for value in attractiveness]\n",
    "        \n",
    "        node_index = -1\n",
    "        total_prob = 0\n",
    "\n",
    "        for index in range(len(probabilities)):\n",
    "            total_prob += probabilities[index]\n",
    "            if total_prob >= random_value:\n",
    "                node_index = index\n",
    "                break\n",
    "        \n",
    "        node = neighbours[node_index]\n",
    "        selected.add(node)\n",
    "        path.append(node)\n",
    "    \n",
    "    return path"
   ]
  },
  {
   "cell_type": "code",
   "execution_count": 5,
   "metadata": {},
   "outputs": [],
   "source": [
    "# Returns first order neighbours of node in a graph\n",
    "def first_order_degree(graph: nx.graph, node: int):\n",
    "    return len(graph.adj[node])\n",
    "\n",
    "# Returns second order neighbours of node in a graph\n",
    "def second_order_degree(graph: nx.graph, node: int):\n",
    "    visited = set(graph[node])\n",
    "    visited.add(node)\n",
    "\n",
    "    degree = 0\n",
    "    for u in graph[node]:\n",
    "        for v in graph[u]:\n",
    "            if v not in visited:\n",
    "                degree = degree + 1\n",
    "                visited.add(v)\n",
    "\n",
    "    return degree\n",
    "\n",
    "i = 1    # Some coefficient, not mentioned properly\n",
    "j = 1    # Some coefficient, not mentioned properly\n",
    "\n",
    "def fitness(graph: nx.graph, ant: list):\n",
    "    fitness = 0\n",
    "    for u in ant:\n",
    "        fitness = fitness + (first_order_degree(graph, u) ** i) * (second_order_degree(graph, u) ** j)\n",
    "\n",
    "    return fitness"
   ]
  },
  {
   "cell_type": "code",
   "execution_count": 6,
   "metadata": {},
   "outputs": [],
   "source": [
    "def update_pheromones(graph: nx.graph, population: list, evaporation_coefficient: float):\n",
    "    fitness_along_edge = {}\n",
    "\n",
    "    for ant_path in population:\n",
    "        fitness_ = fitness(graph, ant_path)\n",
    "        for u, v in zip(ant_path, ant_path[1:]):\n",
    "                fitness_along_edge[(u, v)] = fitness_along_edge.get((u, v), 0) + fitness_\n",
    "    \n",
    "    for u, v in graph.edges:\n",
    "        if u == v:\n",
    "            continue\n",
    "        \n",
    "        graph[u][v]['pheromone'] = \\\n",
    "            (1 - evaporation_coefficient) * graph[u][v]['pheromone'] + fitness_along_edge.get((u, v), 0)"
   ]
  },
  {
   "cell_type": "code",
   "execution_count": 7,
   "metadata": {},
   "outputs": [],
   "source": [
    "graph = nx.DiGraph()\n",
    "no_of_nodes = 50\n",
    "no_of_edges = 250\n",
    "\n",
    "# Constructing the graph\n",
    "for i in range(no_of_nodes):\n",
    "    graph.add_node(i)\n",
    "\n",
    "included = set()\n",
    "\n",
    "cal = 0\n",
    "for i in range(no_of_edges):\n",
    "    u = random.randint(0, no_of_nodes - 1)\n",
    "    v = random.randint(0, no_of_nodes - 1)\n",
    "\n",
    "    while u == v or (u, v) in included:\n",
    "        u = random.randint(0, no_of_nodes - 1)\n",
    "        v = random.randint(0, no_of_nodes - 1)\n",
    "\n",
    "    graph.add_edge(u, v, pheromone = random.random())\n",
    "    included.add((u, v))\n",
    "\n",
    "    cal += 1"
   ]
  },
  {
   "cell_type": "code",
   "execution_count": 8,
   "metadata": {},
   "outputs": [],
   "source": [
    "for u in graph.nodes():\n",
    "    graph.nodes[u]['cost'] = random.randint(1, 200)"
   ]
  },
  {
   "cell_type": "code",
   "execution_count": 9,
   "metadata": {},
   "outputs": [],
   "source": [
    "negative_influence_set = set()\n",
    "\n",
    "for i in range(negative_influence_set_size):\n",
    "    u = random.choice(list(graph.nodes()))\n",
    "\n",
    "    while u in negative_influence_set:\n",
    "        u = random.choice(list(graph.nodes()))\n",
    "    \n",
    "    negative_influence_set.add(u)"
   ]
  },
  {
   "cell_type": "code",
   "execution_count": 42,
   "metadata": {},
   "outputs": [
    {
     "name": "stdout",
     "output_type": "stream",
     "text": [
      "{32, 6, 9, 44, 45, 16, 17, 18, 49, 22, 29, 31}\n"
     ]
    }
   ],
   "source": [
    "def ACO_GE(graph: nx.graph, no_of_iterations: int, no_of_ants: int, negative_influence_set: set, \n",
    "           path_size: int, evaporation_coefficient: float, budget: int):\n",
    "\n",
    "    get_heuristic_value_for_all_edges(graph)\n",
    "    \n",
    "    population = []\n",
    "\n",
    "    for i in range(no_of_iterations):\n",
    "        population.clear()\n",
    "\n",
    "        for k in range(no_of_ants):\n",
    "            ant = generate_ant(graph, negative_influence_set, path_size)\n",
    "            population.append(ant)\n",
    "\n",
    "        \n",
    "        update_pheromones(graph, population, evaporation_coefficient)\n",
    "    \n",
    "    candidate_set = set()\n",
    "    for ant in population:\n",
    "        for u in ant:\n",
    "            candidate_set.add(u)\n",
    "\n",
    "    candidate_set = list(candidate_set)\n",
    "    candidate_set.sort(key = lambda x: graph.nodes[x]['cost'], reverse = True)\n",
    "\n",
    "    seed_set = set()\n",
    "    while len(candidate_set) and budget >= graph.nodes[candidate_set[-1]]['cost']:\n",
    "        u = candidate_set[-1]\n",
    "\n",
    "        budget -= graph.nodes[u]['cost']\n",
    "\n",
    "        seed_set.add(u)\n",
    "        candidate_set.pop()\n",
    "    \n",
    "    return seed_set\n",
    "\n",
    "positive_set = ACO_GE(graph, Nc, m, negative_influence_set, L, rho, budget)\n",
    "\n",
    "print(positive_set)"
   ]
  }
 ],
 "metadata": {
  "kernelspec": {
   "display_name": ".venv",
   "language": "python",
   "name": "python3"
  },
  "language_info": {
   "codemirror_mode": {
    "name": "ipython",
    "version": 3
   },
   "file_extension": ".py",
   "mimetype": "text/x-python",
   "name": "python",
   "nbconvert_exporter": "python",
   "pygments_lexer": "ipython3",
   "version": "3.10.12"
  },
  "orig_nbformat": 4
 },
 "nbformat": 4,
 "nbformat_minor": 2
}
